{
 "cells": [
  {
   "cell_type": "markdown",
   "id": "dc1b5de0",
   "metadata": {
    "papermill": {
     "duration": 0.007199,
     "end_time": "2025-03-25T19:31:27.854566",
     "exception": false,
     "start_time": "2025-03-25T19:31:27.847367",
     "status": "completed"
    },
    "tags": []
   },
   "source": [
    "<IMG SRC=\"https://ucalgary.ca/themes/ucalgary/ucws_theme/images/UCalgary.svg\" WIDTH=250 ALIGN=\"right\">    </IMG>\n",
    "## Plotting $\\dot{V}O_2$ continued...\n",
    "\n",
    "#### Developed by Dr. John Holash at the University of Calgary"
   ]
  },
  {
   "cell_type": "code",
   "execution_count": 1,
   "id": "b1c80196",
   "metadata": {
    "_cell_guid": "b1076dfc-b9ad-4769-8c92-a6c4dae69d19",
    "_uuid": "8f2839f25d086af736a60e9eeb907d3b93b6e0e5",
    "execution": {
     "iopub.execute_input": "2025-03-25T19:31:27.868204Z",
     "iopub.status.busy": "2025-03-25T19:31:27.867789Z",
     "iopub.status.idle": "2025-03-25T19:31:27.886471Z",
     "shell.execute_reply": "2025-03-25T19:31:27.885078Z"
    },
    "papermill": {
     "duration": 0.029543,
     "end_time": "2025-03-25T19:31:27.890125",
     "exception": false,
     "start_time": "2025-03-25T19:31:27.860582",
     "status": "completed"
    },
    "tags": []
   },
   "outputs": [
    {
     "name": "stdout",
     "output_type": "stream",
     "text": [
      "/kaggle/input/demo-knes381/subject_1321.xlsx\n",
      "/kaggle/input/demo-knes381/subject_1432.xlsx\n",
      "/kaggle/input/demo-knes381/subject_1321.csv\n",
      "/kaggle/input/demo-knes381/subject_1232.csv\n",
      "/kaggle/input/demo-knes381/VO2_CSV.csv\n",
      "/kaggle/input/demo-knes381/subject_1232.xlsx\n",
      "/kaggle/input/demo-knes381/subject_1432.csv\n",
      "/kaggle/input/demo-knes381/subject_1523.csv\n",
      "/kaggle/input/demo-knes381/VO2_excel.xlsx\n",
      "/kaggle/input/demo-knes381/subject_1523.xlsx\n"
     ]
    }
   ],
   "source": [
    "# This Python 3 environment comes with many helpful analytics libraries installed\n",
    "# It is defined by the kaggle/python Docker image: https://github.com/kaggle/docker-python\n",
    "# For example, here's several helpful packages to load\n",
    "\n",
    "import numpy as np # linear algebra\n",
    "import pandas as pd # data processing, CSV file I/O (e.g. pd.read_csv)\n",
    "\n",
    "# Input data files are available in the read-only \"../input/\" directory\n",
    "# For example, running this (by clicking run or pressing Shift+Enter) will list all files under the input directory\n",
    "\n",
    "import os\n",
    "for dirname, _, filenames in os.walk('/kaggle/input'):\n",
    "    for filename in filenames:\n",
    "        print(os.path.join(dirname, filename))\n",
    "\n",
    "# You can write up to 20GB to the current directory (/kaggle/working/) that gets preserved as output when you create a version using \"Save & Run All\" \n",
    "# You can also write temporary files to /kaggle/temp/, but they won't be saved outside of the current session"
   ]
  },
  {
   "cell_type": "code",
   "execution_count": 2,
   "id": "b38ca761",
   "metadata": {
    "execution": {
     "iopub.execute_input": "2025-03-25T19:31:27.904592Z",
     "iopub.status.busy": "2025-03-25T19:31:27.904184Z",
     "iopub.status.idle": "2025-03-25T19:31:27.926589Z",
     "shell.execute_reply": "2025-03-25T19:31:27.925353Z"
    },
    "papermill": {
     "duration": 0.032871,
     "end_time": "2025-03-25T19:31:27.929385",
     "exception": false,
     "start_time": "2025-03-25T19:31:27.896514",
     "status": "completed"
    },
    "tags": []
   },
   "outputs": [],
   "source": [
    "df = pd.read_csv('../input/demo-knes381/subject_1232.csv', header=[0], skiprows=[1,2,3])"
   ]
  },
  {
   "cell_type": "code",
   "execution_count": 3,
   "id": "9079f54f",
   "metadata": {
    "execution": {
     "iopub.execute_input": "2025-03-25T19:31:27.943154Z",
     "iopub.status.busy": "2025-03-25T19:31:27.942737Z",
     "iopub.status.idle": "2025-03-25T19:31:27.970660Z",
     "shell.execute_reply": "2025-03-25T19:31:27.968951Z"
    },
    "papermill": {
     "duration": 0.037946,
     "end_time": "2025-03-25T19:31:27.973426",
     "exception": false,
     "start_time": "2025-03-25T19:31:27.935480",
     "status": "completed"
    },
    "tags": []
   },
   "outputs": [
    {
     "name": "stdout",
     "output_type": "stream",
     "text": [
      "<class 'pandas.core.frame.DataFrame'>\n",
      "RangeIndex: 54 entries, 0 to 53\n",
      "Data columns (total 17 columns):\n",
      " #   Column       Non-Null Count  Dtype  \n",
      "---  ------       --------------  -----  \n",
      " 0   TIME         54 non-null     float64\n",
      " 1   VO2          54 non-null     float64\n",
      " 2   VO2/kg       54 non-null     float64\n",
      " 3   METS         54 non-null     float64\n",
      " 4   VCO2         54 non-null     float64\n",
      " 5   VE           54 non-null     float64\n",
      " 6   RER          54 non-null     float64\n",
      " 7   RR           54 non-null     float64\n",
      " 8   Vt           54 non-null     float64\n",
      " 9   FEO2         54 non-null     float64\n",
      " 10  FECO2        54 non-null     float64\n",
      " 11  HR           54 non-null     float64\n",
      " 12  VE/VO2       54 non-null     float64\n",
      " 13  VE/VCO2      54 non-null     float64\n",
      " 14  PetCO2       54 non-null     float64\n",
      " 15  PO           54 non-null     int64  \n",
      " 16  Unnamed: 16  9 non-null      float64\n",
      "dtypes: float64(16), int64(1)\n",
      "memory usage: 7.3 KB\n"
     ]
    }
   ],
   "source": [
    "df.info()"
   ]
  },
  {
   "cell_type": "markdown",
   "id": "9dc7d255",
   "metadata": {
    "papermill": {
     "duration": 0.006083,
     "end_time": "2025-03-25T19:31:27.985771",
     "exception": false,
     "start_time": "2025-03-25T19:31:27.979688",
     "status": "completed"
    },
    "tags": []
   },
   "source": [
    "### Rename some of the columns so they make sense\n",
    "you can rename them with the value TIME -> Time(min) but don't leave spaces if you want to auto-complete names..."
   ]
  },
  {
   "cell_type": "code",
   "execution_count": 4,
   "id": "ab6e2a33",
   "metadata": {
    "execution": {
     "iopub.execute_input": "2025-03-25T19:31:27.999891Z",
     "iopub.status.busy": "2025-03-25T19:31:27.999470Z",
     "iopub.status.idle": "2025-03-25T19:31:28.006149Z",
     "shell.execute_reply": "2025-03-25T19:31:28.004778Z"
    },
    "papermill": {
     "duration": 0.016824,
     "end_time": "2025-03-25T19:31:28.008770",
     "exception": false,
     "start_time": "2025-03-25T19:31:27.991946",
     "status": "completed"
    },
    "tags": []
   },
   "outputs": [],
   "source": [
    "df = df.rename(columns={'VE/': 'VE/VO2','VE/.1': 'VE/VCO2'})"
   ]
  },
  {
   "cell_type": "code",
   "execution_count": 5,
   "id": "32a8a773",
   "metadata": {
    "execution": {
     "iopub.execute_input": "2025-03-25T19:31:28.022862Z",
     "iopub.status.busy": "2025-03-25T19:31:28.022431Z",
     "iopub.status.idle": "2025-03-25T19:31:28.036443Z",
     "shell.execute_reply": "2025-03-25T19:31:28.035085Z"
    },
    "papermill": {
     "duration": 0.024119,
     "end_time": "2025-03-25T19:31:28.039092",
     "exception": false,
     "start_time": "2025-03-25T19:31:28.014973",
     "status": "completed"
    },
    "tags": []
   },
   "outputs": [
    {
     "name": "stdout",
     "output_type": "stream",
     "text": [
      "<class 'pandas.core.frame.DataFrame'>\n",
      "RangeIndex: 54 entries, 0 to 53\n",
      "Data columns (total 17 columns):\n",
      " #   Column       Non-Null Count  Dtype  \n",
      "---  ------       --------------  -----  \n",
      " 0   TIME         54 non-null     float64\n",
      " 1   VO2          54 non-null     float64\n",
      " 2   VO2/kg       54 non-null     float64\n",
      " 3   METS         54 non-null     float64\n",
      " 4   VCO2         54 non-null     float64\n",
      " 5   VE           54 non-null     float64\n",
      " 6   RER          54 non-null     float64\n",
      " 7   RR           54 non-null     float64\n",
      " 8   Vt           54 non-null     float64\n",
      " 9   FEO2         54 non-null     float64\n",
      " 10  FECO2        54 non-null     float64\n",
      " 11  HR           54 non-null     float64\n",
      " 12  VE/VO2       54 non-null     float64\n",
      " 13  VE/VCO2      54 non-null     float64\n",
      " 14  PetCO2       54 non-null     float64\n",
      " 15  PO           54 non-null     int64  \n",
      " 16  Unnamed: 16  9 non-null      float64\n",
      "dtypes: float64(16), int64(1)\n",
      "memory usage: 7.3 KB\n"
     ]
    }
   ],
   "source": [
    "df.info()"
   ]
  },
  {
   "cell_type": "code",
   "execution_count": 6,
   "id": "b04afe63",
   "metadata": {
    "execution": {
     "iopub.execute_input": "2025-03-25T19:31:28.054815Z",
     "iopub.status.busy": "2025-03-25T19:31:28.053904Z",
     "iopub.status.idle": "2025-03-25T19:31:28.059383Z",
     "shell.execute_reply": "2025-03-25T19:31:28.057988Z"
    },
    "papermill": {
     "duration": 0.016767,
     "end_time": "2025-03-25T19:31:28.062007",
     "exception": false,
     "start_time": "2025-03-25T19:31:28.045240",
     "status": "completed"
    },
    "tags": []
   },
   "outputs": [],
   "source": [
    "import matplotlib.pyplot as plt"
   ]
  },
  {
   "cell_type": "markdown",
   "id": "2043d275",
   "metadata": {
    "papermill": {
     "duration": 0.005968,
     "end_time": "2025-03-25T19:31:28.074116",
     "exception": false,
     "start_time": "2025-03-25T19:31:28.068148",
     "status": "completed"
    },
    "tags": []
   },
   "source": [
    "### Create our big plot...\n",
    "1st define our variables x,y,& y1"
   ]
  },
  {
   "cell_type": "code",
   "execution_count": 7,
   "id": "e5b7e1f0",
   "metadata": {
    "execution": {
     "iopub.execute_input": "2025-03-25T19:31:28.089253Z",
     "iopub.status.busy": "2025-03-25T19:31:28.087976Z",
     "iopub.status.idle": "2025-03-25T19:31:28.094426Z",
     "shell.execute_reply": "2025-03-25T19:31:28.092967Z"
    },
    "papermill": {
     "duration": 0.016718,
     "end_time": "2025-03-25T19:31:28.097020",
     "exception": false,
     "start_time": "2025-03-25T19:31:28.080302",
     "status": "completed"
    },
    "tags": []
   },
   "outputs": [],
   "source": [
    "# simplify our terms to reduce future typing...\n",
    "x = df['TIME']\n",
    "y = df['VO2']\n",
    "y1 = df['VE']"
   ]
  },
  {
   "cell_type": "markdown",
   "id": "15ed8617",
   "metadata": {
    "papermill": {
     "duration": 0.005899,
     "end_time": "2025-03-25T19:31:28.109499",
     "exception": false,
     "start_time": "2025-03-25T19:31:28.103600",
     "status": "completed"
    },
    "tags": []
   },
   "source": [
    "#### Find the position where max occurs, on each axes"
   ]
  },
  {
   "cell_type": "code",
   "execution_count": 8,
   "id": "d3a6bd3d",
   "metadata": {
    "execution": {
     "iopub.execute_input": "2025-03-25T19:31:28.123599Z",
     "iopub.status.busy": "2025-03-25T19:31:28.123218Z",
     "iopub.status.idle": "2025-03-25T19:31:28.128924Z",
     "shell.execute_reply": "2025-03-25T19:31:28.127742Z"
    },
    "papermill": {
     "duration": 0.015669,
     "end_time": "2025-03-25T19:31:28.131484",
     "exception": false,
     "start_time": "2025-03-25T19:31:28.115815",
     "status": "completed"
    },
    "tags": []
   },
   "outputs": [],
   "source": [
    "#Find VO2 max value \n",
    "ymax = max(y)\n",
    "\n",
    "# find the x position of the ymax value or where ymax occurs on the x axis\n",
    "xmax = x[y.argmax()]"
   ]
  },
  {
   "cell_type": "markdown",
   "id": "4a875867",
   "metadata": {
    "papermill": {
     "duration": 0.005726,
     "end_time": "2025-03-25T19:31:28.143617",
     "exception": false,
     "start_time": "2025-03-25T19:31:28.137891",
     "status": "completed"
    },
    "tags": []
   },
   "source": [
    "#### Now we can discover what these values are"
   ]
  },
  {
   "cell_type": "code",
   "execution_count": 9,
   "id": "a340ed06",
   "metadata": {
    "execution": {
     "iopub.execute_input": "2025-03-25T19:31:28.157534Z",
     "iopub.status.busy": "2025-03-25T19:31:28.157158Z",
     "iopub.status.idle": "2025-03-25T19:31:28.163530Z",
     "shell.execute_reply": "2025-03-25T19:31:28.162226Z"
    },
    "papermill": {
     "duration": 0.016243,
     "end_time": "2025-03-25T19:31:28.166024",
     "exception": false,
     "start_time": "2025-03-25T19:31:28.149781",
     "status": "completed"
    },
    "tags": []
   },
   "outputs": [
    {
     "name": "stdout",
     "output_type": "stream",
     "text": [
      "4.184775\n",
      "26.500189\n"
     ]
    }
   ],
   "source": [
    "print(ymax)\n",
    "print(xmax)"
   ]
  },
  {
   "cell_type": "markdown",
   "id": "5a57eb76",
   "metadata": {
    "papermill": {
     "duration": 0.005812,
     "end_time": "2025-03-25T19:31:28.178043",
     "exception": false,
     "start_time": "2025-03-25T19:31:28.172231",
     "status": "completed"
    },
    "tags": []
   },
   "source": [
    "#### Create the frame and the axis that we will plot in"
   ]
  },
  {
   "cell_type": "code",
   "execution_count": 10,
   "id": "05224809",
   "metadata": {
    "execution": {
     "iopub.execute_input": "2025-03-25T19:31:28.199523Z",
     "iopub.status.busy": "2025-03-25T19:31:28.198090Z",
     "iopub.status.idle": "2025-03-25T19:31:28.516472Z",
     "shell.execute_reply": "2025-03-25T19:31:28.515149Z"
    },
    "papermill": {
     "duration": 0.33492,
     "end_time": "2025-03-25T19:31:28.519033",
     "exception": false,
     "start_time": "2025-03-25T19:31:28.184113",
     "status": "completed"
    },
    "tags": []
   },
   "outputs": [
    {
     "data": {
      "image/png": "[encoded data removed]",
      "text/plain": [
       "<Figure size 640x480 with 2 Axes>"
      ]
     },
     "metadata": {},
     "output_type": "display_data"
    }
   ],
   "source": [
    "# break up the figure and axis definitions of a plot \n",
    "# so it is easier to assign values\n",
    "\n",
    "fig, ax = plt.subplots(2, 1, sharex=True)\n",
    "\n",
    "# create 2 subplots share x axis, in the next line we will remove \n",
    "# spaces between the horizontal axis, play with this value to see what happens the value can be 0.01 for example\n",
    "\n",
    "fig.subplots_adjust(hspace=0.1\n",
    "                   )"
   ]
  },
  {
   "cell_type": "markdown",
   "id": "7ae1fa89",
   "metadata": {
    "papermill": {
     "duration": 0.006283,
     "end_time": "2025-03-25T19:31:28.531888",
     "exception": false,
     "start_time": "2025-03-25T19:31:28.525605",
     "status": "completed"
    },
    "tags": []
   },
   "source": [
    "#### Now that we have that axis value specified, annotate the position and marker for VO2 max"
   ]
  },
  {
   "cell_type": "code",
   "execution_count": 11,
   "id": "0da34a6f",
   "metadata": {
    "execution": {
     "iopub.execute_input": "2025-03-25T19:31:28.547203Z",
     "iopub.status.busy": "2025-03-25T19:31:28.546805Z",
     "iopub.status.idle": "2025-03-25T19:31:28.556053Z",
     "shell.execute_reply": "2025-03-25T19:31:28.554822Z"
    },
    "papermill": {
     "duration": 0.019556,
     "end_time": "2025-03-25T19:31:28.558396",
     "exception": false,
     "start_time": "2025-03-25T19:31:28.538840",
     "status": "completed"
    },
    "tags": []
   },
   "outputs": [
    {
     "data": {
      "text/plain": [
       "Text(27.000189, 5.184775, '$\\\\dot VO_2max$ =(4.18) L/min')"
      ]
     },
     "execution_count": 11,
     "metadata": {},
     "output_type": "execute_result"
    }
   ],
   "source": [
    "ax[0].annotate('$\\dot VO_2max$ =({}) L/min'.format(round(ymax, 2)), \n",
    "               xy=(xmax, ymax), xytext=(xmax+.5, ymax+ 1),\n",
    "               arrowprops=dict(facecolor='red', shrink= 0.05),\n",
    "                )"
   ]
  },
  {
   "cell_type": "markdown",
   "id": "2592c9a6",
   "metadata": {
    "papermill": {
     "duration": 0.006328,
     "end_time": "2025-03-25T19:31:28.571273",
     "exception": false,
     "start_time": "2025-03-25T19:31:28.564945",
     "status": "completed"
    },
    "tags": []
   },
   "source": [
    "#### For the first plot ax[0] we create the lable and make it red\n",
    "Then we get rid of the right and top plot frame\n",
    "We set the y axis lab as \"L/min\" and tell it to print a legend"
   ]
  },
  {
   "cell_type": "code",
   "execution_count": 12,
   "id": "23247c4c",
   "metadata": {
    "execution": {
     "iopub.execute_input": "2025-03-25T19:31:28.587387Z",
     "iopub.status.busy": "2025-03-25T19:31:28.585942Z",
     "iopub.status.idle": "2025-03-25T19:31:28.598527Z",
     "shell.execute_reply": "2025-03-25T19:31:28.597152Z"
    },
    "papermill": {
     "duration": 0.023207,
     "end_time": "2025-03-25T19:31:28.601110",
     "exception": false,
     "start_time": "2025-03-25T19:31:28.577903",
     "status": "completed"
    },
    "tags": []
   },
   "outputs": [
    {
     "data": {
      "text/plain": [
       "<matplotlib.legend.Legend at 0x7a2286ccf690>"
      ]
     },
     "execution_count": 12,
     "metadata": {},
     "output_type": "execute_result"
    }
   ],
   "source": [
    "ax[0].plot(x, y,  label=('$\\dot VO_2$'), c='r' )\n",
    "ax[0].spines[['right', 'top']].set_visible(False)\n",
    "#note all these set features could be added in one line but reading it would be difficult\n",
    "#ax.set(title = ('$\\dot VO_2$'), label=('$\\dot VO_2$ L/min'))  \n",
    "ax[0].set(ylabel=('L/min'))\n",
    "ax[0].legend()\n"
   ]
  },
  {
   "cell_type": "markdown",
   "id": "0af54839",
   "metadata": {
    "papermill": {
     "duration": 0.006383,
     "end_time": "2025-03-25T19:31:28.614505",
     "exception": false,
     "start_time": "2025-03-25T19:31:28.608122",
     "status": "completed"
    },
    "tags": []
   },
   "source": [
    "#### Same thing for the second plot *note* we don't see the plot because we have not ploted the plot"
   ]
  },
  {
   "cell_type": "code",
   "execution_count": 13,
   "id": "4c13c95a",
   "metadata": {
    "execution": {
     "iopub.execute_input": "2025-03-25T19:31:28.629774Z",
     "iopub.status.busy": "2025-03-25T19:31:28.629331Z",
     "iopub.status.idle": "2025-03-25T19:31:28.641361Z",
     "shell.execute_reply": "2025-03-25T19:31:28.640135Z"
    },
    "papermill": {
     "duration": 0.022449,
     "end_time": "2025-03-25T19:31:28.643738",
     "exception": false,
     "start_time": "2025-03-25T19:31:28.621289",
     "status": "completed"
    },
    "tags": []
   },
   "outputs": [
    {
     "data": {
      "text/plain": [
       "<matplotlib.legend.Legend at 0x7a2286e0b5d0>"
      ]
     },
     "execution_count": 13,
     "metadata": {},
     "output_type": "execute_result"
    }
   ],
   "source": [
    "# Second plot of values down from the top\n",
    "ax[1].plot(x, y1, label=('VE'), c='b')\n",
    "ax[1].spines[['top', 'right']].set_visible(False)\n",
    "ax[1].set(ylabel=('L/min'))\n",
    "ax[1].legend()"
   ]
  },
  {
   "cell_type": "markdown",
   "id": "10f85507",
   "metadata": {
    "papermill": {
     "duration": 0.006708,
     "end_time": "2025-03-25T19:31:28.657090",
     "exception": false,
     "start_time": "2025-03-25T19:31:28.650382",
     "status": "completed"
    },
    "tags": []
   },
   "source": [
    "#### We can now create a file with our first plot! We will save the plot first for reasons discussed"
   ]
  },
  {
   "cell_type": "code",
   "execution_count": 14,
   "id": "75b0f6d0",
   "metadata": {
    "execution": {
     "iopub.execute_input": "2025-03-25T19:31:28.672431Z",
     "iopub.status.busy": "2025-03-25T19:31:28.672024Z",
     "iopub.status.idle": "2025-03-25T19:31:29.320667Z",
     "shell.execute_reply": "2025-03-25T19:31:29.319402Z"
    },
    "papermill": {
     "duration": 0.659569,
     "end_time": "2025-03-25T19:31:29.323428",
     "exception": false,
     "start_time": "2025-03-25T19:31:28.663859",
     "status": "completed"
    },
    "tags": []
   },
   "outputs": [],
   "source": [
    "fig.savefig(\"VO2-VE-3.png\", dpi=300, bbox_inches = \"tight\")"
   ]
  },
  {
   "cell_type": "markdown",
   "id": "756ea7ab",
   "metadata": {
    "papermill": {
     "duration": 0.006796,
     "end_time": "2025-03-25T19:31:29.337206",
     "exception": false,
     "start_time": "2025-03-25T19:31:29.330410",
     "status": "completed"
    },
    "tags": []
   },
   "source": [
    "#### As this is an interactive space we need to put all the code together for it to plot out interactively..."
   ]
  },
  {
   "cell_type": "code",
   "execution_count": 15,
   "id": "79b8b249",
   "metadata": {
    "execution": {
     "iopub.execute_input": "2025-03-25T19:31:29.353291Z",
     "iopub.status.busy": "2025-03-25T19:31:29.352264Z",
     "iopub.status.idle": "2025-03-25T19:31:30.371172Z",
     "shell.execute_reply": "2025-03-25T19:31:30.369908Z"
    },
    "papermill": {
     "duration": 1.030012,
     "end_time": "2025-03-25T19:31:30.374004",
     "exception": false,
     "start_time": "2025-03-25T19:31:29.343992",
     "status": "completed"
    },
    "tags": []
   },
   "outputs": [
    {
     "data": {
      "image/png": "[encoded data removed]",
      "text/plain": [
       "<Figure size 640x480 with 2 Axes>"
      ]
     },
     "metadata": {},
     "output_type": "display_data"
    }
   ],
   "source": [
    "# break up the figure and axis definitions of a plot \n",
    "# so it is easier to assign values\n",
    "fig, ax = plt.subplots(2, 1, sharex=True)  # Height increased from default\n",
    "# spaces between the horizontal axis, play with this value?\n",
    "fig.subplots_adjust(hspace=0)\n",
    "\n",
    "\n",
    "ax[0].annotate('$\\dot VO_2max$ =({}) L/min'.format(round(ymax, 2)), \n",
    "               xy=(xmax, ymax), xytext=(xmax+.5, ymax+ 1),\n",
    "               arrowprops=dict(facecolor='red', shrink= 0.05),\n",
    "                )\n",
    "\n",
    "ax[0].plot(x, y,  label=('$\\dot VO_2$'), c='r' )\n",
    "ax[0].spines[['right', 'top']].set_visible(False)\n",
    "#note all these set features could be added in one line but reading it would be difficult\n",
    "#ax.set(title = ('$\\dot VO_2$'), label=('$\\dot VO_2$ L/min'))  \n",
    "ax[0].set(ylabel=('L/min'))\n",
    "ax[0].legend()\n",
    "\n",
    "# Second plot of values down from the top\n",
    "ax[1].plot(x, y1, label=('VE'), c='b')\n",
    "ax[1].spines[['top', 'right']].set_visible(False)\n",
    "ax[1].set(ylabel=('breaths/min'))\n",
    "ax[1].legend()\n",
    "\n",
    "#ax[0].set_ylim(min(y) - 1, max(y) + 1)  # Adjust as needed for your data\n",
    "#ax[1].set_ylim(min(y1) - 1, max(y1) + 1)  # Adjust as needed\n",
    "\n",
    "# save the figure before we show it... or it will be blank\n",
    "fig.savefig(\"VO2-VE-3.png\", dpi=300, bbox_inches = \"tight\")\n",
    "fig.show()"
   ]
  },
  {
   "cell_type": "markdown",
   "id": "de671829",
   "metadata": {
    "papermill": {
     "duration": 0.006976,
     "end_time": "2025-03-25T19:31:30.388632",
     "exception": false,
     "start_time": "2025-03-25T19:31:30.381656",
     "status": "completed"
    },
    "tags": []
   },
   "source": [
    "### We can put this all together now in one code block that does everything...\n",
    "\n",
    "We have built up each part seperatly in the code above to make sure that all parts of our code should and do work.  Now that we know everything works we can take the next step of putting it together in one code block so we don't run into coherence problems (running things out of order).  We will run everything in one block now, this is a self contained python file and you could turn it into a .py file and run it from the command line and if your path to the datafile was accurate it would run and save the image file."
   ]
  },
  {
   "cell_type": "code",
   "execution_count": 16,
   "id": "df2a3d65",
   "metadata": {
    "execution": {
     "iopub.execute_input": "2025-03-25T19:31:30.406428Z",
     "iopub.status.busy": "2025-03-25T19:31:30.404905Z",
     "iopub.status.idle": "2025-03-25T19:31:31.548079Z",
     "shell.execute_reply": "2025-03-25T19:31:31.546765Z"
    },
    "papermill": {
     "duration": 1.155194,
     "end_time": "2025-03-25T19:31:31.551173",
     "exception": false,
     "start_time": "2025-03-25T19:31:30.395979",
     "status": "completed"
    },
    "tags": []
   },
   "outputs": [
    {
     "data": {
      "image/png": "[encoded data removed]",
      "text/plain": [
       "<Figure size 800x1000 with 2 Axes>"
      ]
     },
     "metadata": {},
     "output_type": "display_data"
    }
   ],
   "source": [
    "### Now all together in one code block that could run independently...\n",
    "# lets take care of importing everything we need at once\n",
    "\n",
    "import numpy as np # linear algebra\n",
    "import pandas as pd # data processing, CSV file I/O (e.g. pd.read_csv)\n",
    "import matplotlib.pyplot as plt\n",
    "\n",
    "# Lets read in our file now\n",
    "df = pd.read_csv('../input/demo-knes381/subject_1232.csv', header=[0], skiprows=[1,2,3])\n",
    "\n",
    "# please note that while this is an output file from the parvo-metabolics cart we have\n",
    "# I have edited this data set and simplied the header file on it\n",
    "\n",
    "# rename our column headers\n",
    "df = df.rename(columns={'VE/': 'VE/VO2','VE/.1': 'VE/VCO2'})\n",
    "\n",
    "# simplify our terms to reduce future typing... \n",
    "# it is easier to write plot x, y than plot df['Time'], df['VO2']\n",
    "x = df['TIME']\n",
    "y = df['VO2']\n",
    "y1 = df['VE']\n",
    "\n",
    "#Find VO2 max value \n",
    "ymax = max(y)\n",
    "\n",
    "# find the x position of the ymax value or where ymax occurs on the x axis\n",
    "xmax = x[y.argmax()]\n",
    "\n",
    "fig, ax = plt.subplots(2, 1, sharex=True, figsize=(8, 10)) # Note I increased the figure size here.\n",
    "\n",
    "# this line seperates the two plots...\n",
    "fig.subplots_adjust(hspace=0)\n",
    "\n",
    "# annotate the position of V02 max before plotting the value, we could do this later but why.\n",
    "\n",
    "ax[0].annotate('$\\dot VO_2max$ =({}) L/min'.format(round(ymax, 2)), \n",
    "               xy=(xmax, ymax), xytext=(xmax+.5, ymax+ .5),\n",
    "               arrowprops=dict(facecolor='red', shrink= 0.05),\n",
    "                )\n",
    "\n",
    "ax[0].plot(x, y, 'o', label=('$\\dot VO_2$'), c='r' )\n",
    "# in the line of code below I hide the top and right black bars serrounding the plot for APA format.\n",
    "ax[0].spines[['right', 'top']].set_visible(False)\n",
    "ax[0].set(ylabel=('L/min'))\n",
    "ax[0].legend()\n",
    "#note all these set features could be added in one line but reading it would be difficult\n",
    "\n",
    "# Second plot of values down from the top\n",
    "ax[1].plot(x, y1, 'o', label=('VE'), c='b')\n",
    "ax[1].spines[['top', 'right']].set_visible(False)\n",
    "ax[1].set(ylabel=('breaths/min'))\n",
    "ax[1].set(xlabel=('Time(min)'))\n",
    "ax[1].legend()\n",
    "\n",
    "# save the figure before we show it... or it will be blank\n",
    "fig.savefig(\"VO2-VE-4.png\", dpi=300, bbox_inches = \"tight\")\n",
    "fig.show()"
   ]
  },
  {
   "cell_type": "markdown",
   "id": "b62f3ca7",
   "metadata": {
    "papermill": {
     "duration": 0.007781,
     "end_time": "2025-03-25T19:31:31.567123",
     "exception": false,
     "start_time": "2025-03-25T19:31:31.559342",
     "status": "completed"
    },
    "tags": []
   },
   "source": [
    "### Please note that if you change the file path of the datafile in the code block above you create an completely new graph for your new data, all by changing just one line of code...\n",
    "Also I have changed the marker form a line to dots, can you see somthing about the data that was hidden before when it was plotted in lines?"
   ]
  },
  {
   "cell_type": "code",
   "execution_count": 17,
   "id": "8d4663c1",
   "metadata": {
    "execution": {
     "iopub.execute_input": "2025-03-25T19:31:31.585572Z",
     "iopub.status.busy": "2025-03-25T19:31:31.584593Z",
     "iopub.status.idle": "2025-03-25T19:31:32.722738Z",
     "shell.execute_reply": "2025-03-25T19:31:32.721489Z"
    },
    "papermill": {
     "duration": 1.15031,
     "end_time": "2025-03-25T19:31:32.725397",
     "exception": false,
     "start_time": "2025-03-25T19:31:31.575087",
     "status": "completed"
    },
    "tags": []
   },
   "outputs": [
    {
     "data": {
      "image/png": "[encoded data removed]",
      "text/plain": [
       "<Figure size 800x1000 with 2 Axes>"
      ]
     },
     "metadata": {},
     "output_type": "display_data"
    }
   ],
   "source": [
    "## Changing code to process a different set of VO2 data\n",
    "\n",
    "import numpy as np # linear algebra\n",
    "import pandas as pd # data processing, CSV file I/O (e.g. pd.read_csv)\n",
    "import matplotlib.pyplot as plt\n",
    "\n",
    "# Lets read in our file now\n",
    "df = pd.read_csv('../input/demo-knes381/subject_1432.csv', header=[0], skiprows=[1,2,3])\n",
    "\n",
    "# please note that while this is an output file from the parvo-metabolics cart we have\n",
    "# I have edited this data set and simplied the header file on it\n",
    "\n",
    "# rename our column headers\n",
    "df = df.rename(columns={'VE/': 'VE/VO2','VE/.1': 'VE/VCO2'})\n",
    "\n",
    "# simplify our terms to reduce future typing... \n",
    "# it is easier to write plot x, y than plot df['Time'], df['VO2']\n",
    "x = df['TIME']\n",
    "y = df['VO2']\n",
    "y1 = df['VE']\n",
    "\n",
    "#Find VO2 max value \n",
    "ymax = max(y)\n",
    "\n",
    "# find the x position of the ymax value or where ymax occurs on the x axis\n",
    "xmax = x[y.argmax()]\n",
    "\n",
    "fig, ax = plt.subplots(2, 1, sharex=True, figsize=(8, 10)) # Note I increased the figure size here.\n",
    "\n",
    "# this line seperates the two plots...\n",
    "fig.subplots_adjust(hspace=0)\n",
    "\n",
    "# annotate the position of V02 max before plotting the value, we could do this later but why.\n",
    "\n",
    "ax[0].annotate('$\\dot VO_2max$ =({}) L/min'.format(round(ymax, 2)), \n",
    "               xy=(xmax, ymax), xytext=(xmax+.5, ymax+ .5),\n",
    "               arrowprops=dict(facecolor='red', shrink= 0.05),\n",
    "                )\n",
    "\n",
    "ax[0].plot(x, y, 'o', label=('$\\dot VO_2$'), c='r' )\n",
    "# in the line of code below I hide the top and right black bars serrounding the plot for APA format.\n",
    "ax[0].spines[['right', 'top']].set_visible(False)\n",
    "ax[0].set(ylabel=('L/min'))\n",
    "ax[0].legend()\n",
    "#note all these set features could be added in one line but reading it would be difficult\n",
    "\n",
    "# Second plot of values down from the top\n",
    "ax[1].plot(x, y1, 'o', label=('VE'), c='b')\n",
    "ax[1].spines[['top', 'right']].set_visible(False)\n",
    "ax[1].set(ylabel=('breaths/min'))\n",
    "ax[1].set(xlabel=('Time(min)'))\n",
    "ax[1].legend()\n",
    "\n",
    "# save the figure before we show it... or it will be blank\n",
    "fig.savefig(\"VO2-VE-4.png\", dpi=300, bbox_inches = \"tight\")\n",
    "fig.show()"
   ]
  },
  {
   "cell_type": "code",
   "execution_count": 18,
   "id": "0cac9707",
   "metadata": {
    "execution": {
     "iopub.execute_input": "2025-03-25T19:31:32.745205Z",
     "iopub.status.busy": "2025-03-25T19:31:32.744761Z",
     "iopub.status.idle": "2025-03-25T19:31:33.838237Z",
     "shell.execute_reply": "2025-03-25T19:31:33.837033Z"
    },
    "papermill": {
     "duration": 1.106377,
     "end_time": "2025-03-25T19:31:33.840902",
     "exception": false,
     "start_time": "2025-03-25T19:31:32.734525",
     "status": "completed"
    },
    "tags": []
   },
   "outputs": [
    {
     "data": {
      "image/png": "[encoded data removed]",
      "text/plain": [
       "<Figure size 900x700 with 2 Axes>"
      ]
     },
     "metadata": {},
     "output_type": "display_data"
    }
   ],
   "source": [
    "#Code plotting my FECO2 and VCO2 over VO2 w/ GET and RCP lines \n",
    "import numpy as np\n",
    "import pandas as pd\n",
    "import matplotlib.pyplot as plt\n",
    "\n",
    "#New datatset used \n",
    "df = pd.read_csv('../input/demo-knes381/subject_1432.csv', header=[0], skiprows=[1,2,3])\n",
    "\n",
    "#Retrieving columns that will be used\n",
    "vo2 = df['VO2']\n",
    "feco2 = df['FECO2']\n",
    "vco2 = df['VCO2']\n",
    "\n",
    "#Making the plot\n",
    "fig, ax = plt.subplots(2, 1, sharex=True, figsize=(9, 7)) \n",
    "fig.subplots_adjust(hspace=0)\n",
    "\n",
    "#Plot FECO2\n",
    "ax[0].scatter(vo2, feco2, c='b', label='FECO2')\n",
    "ax[0].set_ylabel('(%)')\n",
    "ax[0].spines[['right', 'top']].set_visible(False)\n",
    "ax[0].legend()\n",
    "\n",
    "#Plot VCO2\n",
    "ax[1].scatter(vo2, vco2, c='g', label='$\\dot{V}CO_2$')\n",
    "ax[1].set_xlabel('$\\dot{V}O_2$ (L/min)')\n",
    "ax[1].set_ylabel('(L/min)')\n",
    "ax[1].spines[['right', 'top']].set_visible(False)\n",
    "ax[1].legend()\n",
    "\n",
    "#T1 and T2 thresholds determined \n",
    "vo2_diff = np.diff(vco2) / np.diff(vo2)\n",
    "get_vo2 = vo2[np.argmax(vo2_diff[:len(vo2_diff)//2])]\n",
    "rcp_vo2 = vo2[np.argmax(vo2_diff[len(vo2_diff)//2:]) + len(vo2_diff)//2]\n",
    "\n",
    "#Vertical lines for T1 and T2\n",
    "for i in range(2):  \n",
    "    ax[i].axvline(x=get_vo2, c='teal', linestyle='-', label='T1')\n",
    "    ax[i].axvline(x=rcp_vo2, c='teal', linestyle='-', label='T2')\n",
    "    \n",
    "# Add labels beside the lines (only on top plot)\n",
    "ymax = ax[0].get_ylim()[1]  \n",
    "ax[0].text(get_vo2 + 0.01, 4.9, 'T1', color='teal', ha='left', fontsize=12, fontweight='bold')\n",
    "ax[0].text(rcp_vo2 + 0.01, 4.9, 'T2', color='teal', ha='left', fontsize=12, fontweight='bold')\n",
    "\n",
    "\n",
    "#Save figure \n",
    "fig.savefig(\"FECO2-VCO2-vs-VO2.png\", dpi=300, bbox_inches=\"tight\")\n",
    "fig.show()"
   ]
  }
 ],
 "metadata": {
  "kaggle": {
   "accelerator": "none",
   "dataSources": [
    {
     "datasetId": 2952233,
     "sourceId": 5084312,
     "sourceType": "datasetVersion"
    }
   ],
   "dockerImageVersionId": 30407,
   "isGpuEnabled": false,
   "isInternetEnabled": false,
   "language": "python",
   "sourceType": "notebook"
  },
  "kernelspec": {
   "display_name": "Python 3",
   "language": "python",
   "name": "python3"
  },
  "language_info": {
   "codemirror_mode": {
    "name": "ipython",
    "version": 3
   },
   "file_extension": ".py",
   "mimetype": "text/x-python",
   "name": "python",
   "nbconvert_exporter": "python",
   "pygments_lexer": "ipython3",
   "version": "3.7.12"
  },
  "papermill": {
   "default_parameters": {},
   "duration": 17.716668,
   "end_time": "2025-03-25T19:31:34.572967",
   "environment_variables": {},
   "exception": null,
   "input_path": "__notebook__.ipynb",
   "output_path": "__notebook__.ipynb",
   "parameters": {},
   "start_time": "2025-03-25T19:31:16.856299",
   "version": "2.4.0"
  }
 },
 "nbformat": 4,
 "nbformat_minor": 5
}
